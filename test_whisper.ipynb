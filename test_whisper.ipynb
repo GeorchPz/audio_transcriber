{
 "cells": [
  {
   "cell_type": "markdown",
   "metadata": {},
   "source": [
    "### Audio-to-Text with openAI's model Whisper"
   ]
  },
  {
   "cell_type": "code",
   "execution_count": null,
   "metadata": {},
   "outputs": [],
   "source": [
    "import matplotlib.pyplot as plt\n",
    "import pandas as pd\n",
    "import numpy as np\n",
    "\n",
    "from transcriber import AudioTranscriber, get_dir_files"
   ]
  },
  {
   "cell_type": "code",
   "execution_count": null,
   "metadata": {},
   "outputs": [],
   "source": [
    "files = get_dir_files('files_test', extension='mp3')\n",
    "files"
   ]
  },
  {
   "cell_type": "code",
   "execution_count": null,
   "metadata": {},
   "outputs": [],
   "source": [
    "file = files[0]\n",
    "AT = AudioTranscriber(file, directory='test', language='es')\n",
    "\n",
    "result = AT.process()\n",
    "# AT.h5save(result)\n",
    "# result = AT.h5load()\n",
    "AT.txtsave(result)"
   ]
  },
  {
   "cell_type": "code",
   "execution_count": null,
   "metadata": {},
   "outputs": [],
   "source": [
    "AT.h5save(result)"
   ]
  },
  {
   "cell_type": "code",
   "execution_count": null,
   "metadata": {},
   "outputs": [],
   "source": [
    "# import openAI\n",
    "# search best open source alternatives to gpt\n",
    "\n",
    "def textresume(text):\n",
    "    pass"
   ]
  },
  {
   "cell_type": "code",
   "execution_count": null,
   "metadata": {},
   "outputs": [],
   "source": [
    "print(result.keys())\n",
    "result[\"segments\"][-1]"
   ]
  },
  {
   "cell_type": "code",
   "execution_count": null,
   "metadata": {},
   "outputs": [],
   "source": [
    "# Extract data for each segment\n",
    "id = [segment['id'] for segment in result['segments']]\n",
    "text_lengths = [len(segment['text']) for segment in result['segments']]\n",
    "num_tokens = [len(segment['tokens']) for segment in result['segments']]\n",
    "log_probs = [segment['avg_logprob'] for segment in result['segments']]\n",
    "probs = [np.exp(log_prob) for log_prob in log_probs]\n",
    "compr_ratio = [segment['compression_ratio'] for segment in result['segments']]\n",
    "\n",
    "df_segments = pd.DataFrame({\n",
    "    'ID': id,\n",
    "    'Text Length': text_lengths,\n",
    "    'Num Tokens': num_tokens,\n",
    "    'Log Prob': log_probs,\n",
    "    'Prob': probs,\n",
    "    'Compression Ratio': compr_ratio\n",
    "})\n",
    "# Plot the data\n",
    "fig, ax = plt.subplots(1, 1, figsize=(8, 6))\n",
    "df_segments.plot(kind='scatter', x='ID', y='Prob', alpha=0.6, ax=ax, grid=True);"
   ]
  }
 ],
 "metadata": {
  "kernelspec": {
   "display_name": ".venv",
   "language": "python",
   "name": "python3"
  },
  "language_info": {
   "codemirror_mode": {
    "name": "ipython",
    "version": 3
   },
   "file_extension": ".py",
   "mimetype": "text/x-python",
   "name": "python",
   "nbconvert_exporter": "python",
   "pygments_lexer": "ipython3",
   "version": "3.12.4"
  }
 },
 "nbformat": 4,
 "nbformat_minor": 2
}
